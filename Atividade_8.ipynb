{
  "nbformat": 4,
  "nbformat_minor": 0,
  "metadata": {
    "colab": {
      "provenance": [],
      "authorship_tag": "ABX9TyM3mm/wsjEJP0bj0oIhC9bE",
      "include_colab_link": true
    },
    "kernelspec": {
      "name": "python3",
      "display_name": "Python 3"
    },
    "language_info": {
      "name": "python"
    }
  },
  "cells": [
    {
      "cell_type": "markdown",
      "metadata": {
        "id": "view-in-github",
        "colab_type": "text"
      },
      "source": [
        "<a href=\"https://colab.research.google.com/github/danielbr20998/Atividade-6-7/blob/main/Atividade_8.ipynb\" target=\"_parent\"><img src=\"https://colab.research.google.com/assets/colab-badge.svg\" alt=\"Open In Colab\"/></a>"
      ]
    },
    {
      "cell_type": "code",
      "execution_count": 366,
      "metadata": {
        "id": "Y6tIYoUIiqOC"
      },
      "outputs": [],
      "source": [
        "# ATV 8 = Analise de peças de produção:\n",
        "# Uma fábrica de peças mecânicas registrou sua produção de unidades\n",
        "# Ao longo de 4 semanas para 3 linhas de produção.\n",
        "# Cada linha fabrica um tipo diferente de peça\n",
        "# (A, B e C). Os dados foram organizados da seguinte forma:\n",
        "# Linhas (0 a 3): semanas 1 a 4\n",
        "# Colunas (0 a 2): peças A, B e C\n",
        "\n",
        "import statistics as st\n",
        "import numpy as np\n",
        "import random as ran"
      ]
    },
    {
      "cell_type": "code",
      "source": [
        "print(' A, B, C')\n",
        "semanas = np.random.randint(1, 10, size= (4, 3))\n",
        "print(semanas)"
      ],
      "metadata": {
        "colab": {
          "base_uri": "https://localhost:8080/"
        },
        "id": "E4B15iyRlS84",
        "outputId": "0761530b-3c62-4d43-cdec-e1fc8703044d"
      },
      "execution_count": 367,
      "outputs": [
        {
          "output_type": "stream",
          "name": "stdout",
          "text": [
            " A, B, C\n",
            "[[6 4 5]\n",
            " [9 6 1]\n",
            " [3 6 5]\n",
            " [4 5 9]]\n"
          ]
        }
      ]
    },
    {
      "cell_type": "code",
      "source": [
        "# Total de peças produzidas por semana:\n",
        "# Calcule a soma total de peças produzidas em cada semana.\n",
        "# Produção total de cada tipo de peça:\n",
        "# Calcule o total produzido das peças A, B e C ao longo das 4 semanas.\n",
        "# Semana com maior produção total:\n",
        "# Identifique qual semana teve a maior produção somando todos os tipos de peças.\n",
        "# Média semanal de produção por tipo de peça:\n",
        "# Calcule a média semanal de produção para cada tipo de peça."
      ],
      "metadata": {
        "id": "FOEMQEfdqi63"
      },
      "execution_count": 368,
      "outputs": []
    },
    {
      "cell_type": "code",
      "source": [
        "producao1 = semanas[0]\n",
        "producao2 = semanas[1]\n",
        "producao3 = semanas[2]\n",
        "producao4 = semanas[3]\n",
        "produto1 = semanas[:, 0]\n",
        "produto2 = semanas[:, 1]\n",
        "produto3 = semanas[:, 2]\n",
        "\n",
        "print('Produção semana 1: ', producao1)\n",
        "print('Produção semana 2: ', producao2)\n",
        "print('Produção semana 3: ', producao3)\n",
        "print('Produção semana 4: ', producao4)\n",
        "print('Produção peça A: ', produto1)\n",
        "print('Produção peça B: ', produto2)\n",
        "print('Produção peça C: ', produto3)"
      ],
      "metadata": {
        "colab": {
          "base_uri": "https://localhost:8080/"
        },
        "id": "tJA7oAiIq61P",
        "outputId": "fe1cadd5-e9d9-40c7-de80-782643ed14a1"
      },
      "execution_count": 369,
      "outputs": [
        {
          "output_type": "stream",
          "name": "stdout",
          "text": [
            "Produção semana 1:  [6 4 5]\n",
            "Produção semana 2:  [9 6 1]\n",
            "Produção semana 3:  [3 6 5]\n",
            "Produção semana 4:  [4 5 9]\n",
            "Produção peça A:  [6 9 3 4]\n",
            "Produção peça B:  [4 6 6 5]\n",
            "Produção peça C:  [5 1 5 9]\n"
          ]
        }
      ]
    },
    {
      "cell_type": "code",
      "source": [
        "total_prod1 = sum(produto1)\n",
        "total_prod2 = sum(produto2)\n",
        "total_prod3 = sum(produto3)\n",
        "print('Total produção produto A: ', total_prod1)\n",
        "print('Total produção produto B: ', total_prod2)\n",
        "print('Total produção produto C: ', total_prod3)\n",
        "\n",
        "total_geral = total_prod1 + total_prod2 + total_prod3\n",
        "print('Total geral:', total_geral)\n",
        "\n",
        "totais = [total_prod1, total_prod2, total_prod3]\n",
        "letras = ['A', 'B', 'C']\n",
        "\n",
        "indice_maior = totais.index(max(totais))\n",
        "print('Produto com maior produção é', letras[indice_maior], 'com', totais[indice_maior], 'peças totais')"
      ],
      "metadata": {
        "colab": {
          "base_uri": "https://localhost:8080/"
        },
        "id": "QRUeYjIFtA0i",
        "outputId": "3149bbd4-135d-4f43-cc55-39671f1e35bc"
      },
      "execution_count": 370,
      "outputs": [
        {
          "output_type": "stream",
          "name": "stdout",
          "text": [
            "Total produção produto A:  22\n",
            "Total produção produto B:  21\n",
            "Total produção produto C:  20\n",
            "Total geral: 63\n",
            "Produto com maior produção é A com 22 peças totais\n"
          ]
        }
      ]
    },
    {
      "cell_type": "code",
      "source": [
        "total_sem1 = sum(producao1)\n",
        "total_sem2 = sum(producao2)\n",
        "total_sem3 = sum(producao3)\n",
        "total_sem4 = sum(producao4)\n",
        "\n",
        "print('Total produção semana 1: ', total_sem1)\n",
        "print('Total produção semana 2: ', total_sem2)\n",
        "print('Total produção semana 3: ', total_sem3)\n",
        "print('Total produção semana 4: ', total_sem4)\n",
        "\n",
        "maior_sem = max(total_sem1, total_sem2, total_sem3, total_sem4)\n",
        "print('\\n Semana com maior produção:', maior_sem)"
      ],
      "metadata": {
        "colab": {
          "base_uri": "https://localhost:8080/"
        },
        "id": "oa2HakwHuv3y",
        "outputId": "466288ea-2a89-434a-83c7-2762f3d1dd67"
      },
      "execution_count": 371,
      "outputs": [
        {
          "output_type": "stream",
          "name": "stdout",
          "text": [
            "Total produção semana 1:  15\n",
            "Total produção semana 2:  16\n",
            "Total produção semana 3:  14\n",
            "Total produção semana 4:  18\n",
            "\n",
            " Semana com maior produção: 18\n"
          ]
        }
      ]
    },
    {
      "cell_type": "code",
      "source": [
        "media_prod1 = st.mean(produto1)\n",
        "media_prod2 = st.mean(produto2)\n",
        "media_prod3 = st.mean(produto3)\n",
        "\n",
        "print('Média semanal produção produto A: ', media_prod1)\n",
        "print('Média semanal produção produto B: ', media_prod2)\n",
        "print('Média semanal produção produto C: ', media_prod3)"
      ],
      "metadata": {
        "colab": {
          "base_uri": "https://localhost:8080/"
        },
        "id": "FQWb7GLZwDOe",
        "outputId": "89912b1e-3f99-4ade-db3a-0de5e2c16667"
      },
      "execution_count": 372,
      "outputs": [
        {
          "output_type": "stream",
          "name": "stdout",
          "text": [
            "Média semanal produção produto A:  5\n",
            "Média semanal produção produto B:  5\n",
            "Média semanal produção produto C:  5\n"
          ]
        }
      ]
    },
    {
      "cell_type": "code",
      "source": [
        "# Peça com maior média de produção:\n",
        "# Indique qual peça (A, B ou C) teve a maior média de produção nas 4 semanas.\n",
        "# Crescimento semanal da produção da peça A:\n",
        "# Calcule a variação percentual semanal da produção da peça A.\n",
        "# Peças abaixo da média:\n",
        "# Liste as semanas em que alguma peça foi produzida em quantidade abaixo da média do seu tipo."
      ],
      "metadata": {
        "id": "QzsP1oLow7uH"
      },
      "execution_count": 373,
      "outputs": []
    },
    {
      "cell_type": "code",
      "source": [
        "max_media = [media_prod1, media_prod2, media_prod3]\n",
        "media_maior = max_media.index(max(max_media))\n",
        "print('Peça com maior média de produção é', letras[media_maior], 'com', max_media[media_maior], 'peças')\n"
      ],
      "metadata": {
        "colab": {
          "base_uri": "https://localhost:8080/"
        },
        "id": "TOVwPeQlxQnd",
        "outputId": "f8a49f24-056d-4d16-c091-cc5d4f31aad3"
      },
      "execution_count": 374,
      "outputs": [
        {
          "output_type": "stream",
          "name": "stdout",
          "text": [
            "Peça com maior média de produção é A com 5 peças\n"
          ]
        }
      ]
    },
    {
      "cell_type": "code",
      "source": [
        "# Variação percentual do produto A:\n",
        "\n",
        "print(produto1)\n",
        "\n",
        "valor_in = 3\n",
        "valor_fin = 5\n",
        "\n",
        "VP = ((valor_fin - valor_in) / valor_in) * 100\n",
        "print(f\"Variação percentual: {VP:.2f}%\")"
      ],
      "metadata": {
        "colab": {
          "base_uri": "https://localhost:8080/"
        },
        "id": "E_TTk15k0dz0",
        "outputId": "c56e0216-eb5a-4acc-9bf4-bc38584d76cb"
      },
      "execution_count": 375,
      "outputs": [
        {
          "output_type": "stream",
          "name": "stdout",
          "text": [
            "[6 9 3 4]\n",
            "Variação percentual: 66.67%\n"
          ]
        }
      ]
    },
    {
      "cell_type": "code",
      "source": [
        "abaixo_media = [num for num in produto1 if num < media_prod1]\n",
        "\n",
        "print(\"Média:\", media_prod1)\n",
        "print(\"Números abaixo da média:\", abaixo_media)"
      ],
      "metadata": {
        "colab": {
          "base_uri": "https://localhost:8080/"
        },
        "id": "HwsScF8-2fKQ",
        "outputId": "90a16acb-8036-428e-cbdd-24c5503a26ba"
      },
      "execution_count": 376,
      "outputs": [
        {
          "output_type": "stream",
          "name": "stdout",
          "text": [
            "Média: 5\n",
            "Números abaixo da média: [np.int64(3), np.int64(4)]\n"
          ]
        }
      ]
    }
  ]
}