{
  "nbformat": 4,
  "nbformat_minor": 0,
  "metadata": {
    "colab": {
      "provenance": [],
      "authorship_tag": "ABX9TyM8nJrqDaSu6iUibIHLs6UQ",
      "include_colab_link": true
    },
    "kernelspec": {
      "name": "python3",
      "display_name": "Python 3"
    },
    "language_info": {
      "name": "python"
    }
  },
  "cells": [
    {
      "cell_type": "markdown",
      "metadata": {
        "id": "view-in-github",
        "colab_type": "text"
      },
      "source": [
        "<a href=\"https://colab.research.google.com/github/danielbr20998/Atividade-6-7/blob/main/Atividade6_7.ipynb\" target=\"_parent\"><img src=\"https://colab.research.google.com/assets/colab-badge.svg\" alt=\"Open In Colab\"/></a>"
      ]
    },
    {
      "cell_type": "code",
      "source": [
        "import statistics as st"
      ],
      "metadata": {
        "id": "MHdVJbU4Ju1w"
      },
      "execution_count": 128,
      "outputs": []
    },
    {
      "cell_type": "code",
      "execution_count": 129,
      "metadata": {
        "id": "dN1q1bokJqFs"
      },
      "outputs": [],
      "source": [
        "#ATV 6 = avaliaçoes de produtos num e-commerce\n",
        "# 1-5 estrelas"
      ]
    },
    {
      "cell_type": "code",
      "source": [
        "import statistics as st\n",
        "import random as ran"
      ],
      "metadata": {
        "id": "CxbrOWPGcyBq"
      },
      "execution_count": 130,
      "outputs": []
    },
    {
      "cell_type": "code",
      "source": [
        "avaliacoes = [ran.randint(1, 5) for i in range(50)]\n",
        "print(avaliacoes)"
      ],
      "metadata": {
        "colab": {
          "base_uri": "https://localhost:8080/"
        },
        "id": "9njwdEhAc8Es",
        "outputId": "3f30cdac-484d-4ead-f114-bc7942681192"
      },
      "execution_count": 140,
      "outputs": [
        {
          "output_type": "stream",
          "name": "stdout",
          "text": [
            "[3, 5, 5, 4, 4, 3, 1, 1, 5, 3, 4, 4, 3, 5, 4, 4, 4, 2, 5, 1, 5, 5, 5, 3, 4, 1, 1, 2, 2, 4, 2, 4, 4, 2, 5, 1, 1, 2, 3, 3, 5, 4, 3, 5, 5, 4, 4, 4, 2, 3]\n"
          ]
        }
      ]
    },
    {
      "cell_type": "code",
      "source": [
        "moda_das_avaliacoes = st.mode(avaliacoes)\n",
        "print('\\nModa das avaliaçoes:', moda_das_avaliacoes)"
      ],
      "metadata": {
        "colab": {
          "base_uri": "https://localhost:8080/"
        },
        "id": "B7Zlp9X2jea_",
        "outputId": "9dafb539-fbbb-4097-b318-002945a81043"
      },
      "execution_count": 141,
      "outputs": [
        {
          "output_type": "stream",
          "name": "stdout",
          "text": [
            "\n",
            "Moda das avaliaçoes: 4\n"
          ]
        }
      ]
    },
    {
      "cell_type": "code",
      "source": [
        "desvio = st.stdev(avaliacoes)\n",
        "print('Desvio das avaliações: ',desvio)"
      ],
      "metadata": {
        "colab": {
          "base_uri": "https://localhost:8080/"
        },
        "id": "tu8-n1BbkIzU",
        "outputId": "fbbf7d79-810f-48d1-d4f9-58833819e19f"
      },
      "execution_count": 142,
      "outputs": [
        {
          "output_type": "stream",
          "name": "stdout",
          "text": [
            "Desvio das avaliações:  1.3666583706401598\n"
          ]
        }
      ]
    },
    {
      "cell_type": "code",
      "source": [
        "media = st.mean(avaliacoes)\n",
        "mediana = st.median(avaliacoes)\n",
        "print('Média', media)\n",
        "print('Mediana', mediana)"
      ],
      "metadata": {
        "id": "lnbmXIg-kckJ",
        "colab": {
          "base_uri": "https://localhost:8080/"
        },
        "outputId": "a6dee8a1-7c62-41cc-a6bc-078a8f5bd299"
      },
      "execution_count": 143,
      "outputs": [
        {
          "output_type": "stream",
          "name": "stdout",
          "text": [
            "Média 3.36\n",
            "Mediana 4.0\n"
          ]
        }
      ]
    },
    {
      "cell_type": "code",
      "source": [
        "if media == 1 or media <= 2:\n",
        "  print('A avaliação média é ruim')\n",
        "elif media >= 3 or media <= 4:\n",
        "  print('A avaliação média é mediana')\n",
        "elif media >= 4 or media == 5:\n",
        "  print('A avaliação média é boa')"
      ],
      "metadata": {
        "colab": {
          "base_uri": "https://localhost:8080/"
        },
        "id": "h2RewbBdjg_6",
        "outputId": "50da6ce1-6647-4266-c670-66038ebe3bc0"
      },
      "execution_count": 153,
      "outputs": [
        {
          "output_type": "stream",
          "name": "stdout",
          "text": [
            "A avaliação média é mediana\n"
          ]
        }
      ]
    },
    {
      "cell_type": "code",
      "source": [
        "# ATV 7 =  dados de temperatura média (em °C) de uma cidade durante os 7 dias da semana:"
      ],
      "metadata": {
        "id": "0fd-Oy5ykWoY"
      },
      "execution_count": null,
      "outputs": []
    },
    {
      "cell_type": "code",
      "source": [
        "import numpy as np"
      ],
      "metadata": {
        "id": "Vigxg44okwIW"
      },
      "execution_count": 154,
      "outputs": []
    },
    {
      "cell_type": "code",
      "source": [
        "temperaturas = np.array([22.5, 24.0, 19.8, 21.4, 23.0, 25.1, 20.7])\n",
        "dias = np.array([\"Seg\", \"Ter\", \"Qua\", \"Qui\", \"Sex\", \"Sáb\", \"Dom\"])\n",
        "for dia, temp in zip(dias, temperaturas):\n",
        "    print(f\"{dia}: {temp}°C\")"
      ],
      "metadata": {
        "colab": {
          "base_uri": "https://localhost:8080/"
        },
        "id": "DlGGcUL4kx95",
        "outputId": "0546ed8b-8b76-483e-d23a-dff5aea7393f"
      },
      "execution_count": 197,
      "outputs": [
        {
          "output_type": "stream",
          "name": "stdout",
          "text": [
            "Seg: 22.5°C\n",
            "Ter: 24.0°C\n",
            "Qua: 19.8°C\n",
            "Qui: 21.4°C\n",
            "Sex: 23.0°C\n",
            "Sáb: 25.1°C\n",
            "Dom: 20.7°C\n"
          ]
        }
      ]
    },
    {
      "cell_type": "code",
      "source": [
        "# Com base nesses dados, responda:\n",
        "# Qual foi a temperatura média da semana?\n",
        "# Qual foi a temperatura máxima e em que dia ocorreu?\n",
        "# Quais dias tiveram temperatura acima da média?"
      ],
      "metadata": {
        "id": "QFjahtjsk8e9"
      },
      "execution_count": null,
      "outputs": []
    },
    {
      "cell_type": "code",
      "source": [
        "media_temp = st.mean(temperaturas)\n",
        "print('A temperatura média da semana foi de: ', media_temp)\n",
        "indice_max = np.argmax(temperaturas)\n",
        "maxima_temp = temperaturas[indice_max]\n",
        "dia_max = dias[indice_max]\n",
        "print(f'\\nA temperatura máxima foi de {maxima_temp}°C no dia {dia_max}')"
      ],
      "metadata": {
        "colab": {
          "base_uri": "https://localhost:8080/"
        },
        "id": "rPno6SkelSod",
        "outputId": "da023383-dcd9-432b-f89a-5ef688a0ab5c"
      },
      "execution_count": 272,
      "outputs": [
        {
          "output_type": "stream",
          "name": "stdout",
          "text": [
            "A temperatura média da semana foi de:  22.542857142857144\n",
            "\n",
            "A temperatura máxima foi de 25.1°C no dia Sáb\n"
          ]
        }
      ]
    },
    {
      "cell_type": "code",
      "source": [
        "comparaçao = temperaturas > media_temp\n",
        "dias_acima_media = dias[comparaçao]\n",
        "print('Os dias que tiveram temperatura acima da média foram: ', dias_acima_media)"
      ],
      "metadata": {
        "colab": {
          "base_uri": "https://localhost:8080/"
        },
        "id": "78B55o6km9dC",
        "outputId": "95300328-0eb5-45b5-dd85-a26d22c9c7d1"
      },
      "execution_count": 219,
      "outputs": [
        {
          "output_type": "stream",
          "name": "stdout",
          "text": [
            "Os dias que tiveram temperatura acima da média foram:  ['Seg' 'Ter' 'Sex' 'Sáb']\n"
          ]
        }
      ]
    },
    {
      "cell_type": "code",
      "source": [
        "# Crie um novo array com as temperaturas convertidas para Fahrenheit.\n",
        "# Fórmula: F = C * 1.8 + 32\n",
        "# Substitua a temperatura de domingo para 22.0°C e recalcule a média."
      ],
      "metadata": {
        "id": "f5HNYWU-r0sh"
      },
      "execution_count": null,
      "outputs": []
    },
    {
      "cell_type": "code",
      "source": [
        "Fahrenheit = temperaturas * 1.8 + 32\n",
        "print('As temperaturas em Fahrenheit são: ', Fahrenheit)\n",
        "for dia, far in zip(dias, Fahrenheit):\n",
        "    print(f\"{dia}: {far}°F\")"
      ],
      "metadata": {
        "colab": {
          "base_uri": "https://localhost:8080/"
        },
        "id": "DUlZMe6KsHuU",
        "outputId": "fcec1985-f367-4f45-a9b8-2f77b77739af"
      },
      "execution_count": 225,
      "outputs": [
        {
          "output_type": "stream",
          "name": "stdout",
          "text": [
            "As temperaturas em Fahrenheit são:  [72.5  75.2  67.64 70.52 73.4  77.18 69.26]\n",
            "Seg: 72.5°F\n",
            "Ter: 75.2°F\n",
            "Qua: 67.64°F\n",
            "Qui: 70.52°F\n",
            "Sex: 73.4°F\n",
            "Sáb: 77.18°F\n",
            "Dom: 69.25999999999999°F\n"
          ]
        }
      ]
    },
    {
      "cell_type": "code",
      "source": [
        "temperaturas[6:7] = 22\n",
        "print(temperaturas)\n"
      ],
      "metadata": {
        "colab": {
          "base_uri": "https://localhost:8080/"
        },
        "id": "48Zm_RY7tLs5",
        "outputId": "249a5928-e448-4f76-c01a-52f721b7a1db"
      },
      "execution_count": 275,
      "outputs": [
        {
          "output_type": "stream",
          "name": "stdout",
          "text": [
            "[22.5 24.  19.8 21.4 23.  25.1 22. ]\n"
          ]
        }
      ]
    },
    {
      "cell_type": "code",
      "source": [
        "media2 = st.mean(temperaturas)\n",
        "print('A nova média das temperaturas, com este dado alterado, é: ', media2)"
      ],
      "metadata": {
        "colab": {
          "base_uri": "https://localhost:8080/"
        },
        "id": "ObAGQn16uuFL",
        "outputId": "378238c0-4dd1-4e06-ace7-3d3a8f668f67"
      },
      "execution_count": 277,
      "outputs": [
        {
          "output_type": "stream",
          "name": "stdout",
          "text": [
            "A nova média das temperaturas, com este dado alterado, é:  22.542857142857144\n"
          ]
        }
      ]
    }
  ]
}